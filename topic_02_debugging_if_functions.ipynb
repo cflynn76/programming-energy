{
 "cells": [
  {
   "cell_type": "markdown",
   "metadata": {},
   "source": [
    "# Debugging, conditional statements, functions\n",
    "\n",
    "In this lesson, we will focus on finding and correcting errors in code; making decisions; and using functions. By the end of the session, you should be able to:\n",
    "\n",
    "1.\tread Python error messages and fix the code.\n",
    "\n",
    "2.\tuse if/elsif/else statements in Python to make decisions.\n",
    "\n",
    "3.\tcreate and call your own functions to do calculations.\n",
    "\n",
    "\n",
    "## Debugging - finding and correcting errors in your code\n",
    "\n",
    "It will happen (especially at the beginning) that we will have errors in our code and it will not run. It is important to develop skills to be able to identify where the errors are and fix them. Python will indicate errors in a number of ways. Consider the code below."
   ]
  },
  {
   "cell_type": "code",
   "execution_count": 11,
   "metadata": {},
   "outputs": [
    {
     "ename": "SyntaxError",
     "evalue": "EOL while scanning string literal (<ipython-input-11-b12b1a408144>, line 2)",
     "output_type": "error",
     "traceback": [
      "\u001b[1;36m  File \u001b[1;32m\"<ipython-input-11-b12b1a408144>\"\u001b[1;36m, line \u001b[1;32m2\u001b[0m\n\u001b[1;33m    print('Hello there)\u001b[0m\n\u001b[1;37m                       ^\u001b[0m\n\u001b[1;31mSyntaxError\u001b[0m\u001b[1;31m:\u001b[0m EOL while scanning string literal\n"
     ]
    }
   ],
   "source": [
    "# A simple programme with errors\n",
    "print('Hello there)\n",
    "\n",
    "name = Input('What is your name? ')\n",
    "print('Hello there ' + Name ', how are you?\\n')"
   ]
  },
  {
   "cell_type": "markdown",
   "metadata": {},
   "source": [
    "Copy the code above into a script and run it. In the shell, you should get the following:\n",
    "<img src=\"./img/debug_error.PNG\" alt=\"error messages\" align='center' style=\"width: 800px;\"/>\n",
    "The ouput in the shell is pointing to a syntax error in line 2. In Thonny, on the right hand side an assistant window also opens up, which provides additional information on the error.\n",
    "<img src=\"./img/assistant_window.PNG\" alt=\"error messages\" align='center' style=\"width: 600px;\"/>\n",
    "The assistant is saying that the closing quotation mark is missing in the `print` statement.\n",
    "When a program does not run read the messages that Thonny is giving you to help fix the code.\n",
    "\n",
    "## Exercises\n",
    "1.\tCorrect the remaining errors in the script above.\n",
    "\n",
    "2.\tCopy the following code into a script and correct it. Read the messages Thonny is telling you to find the errors."
   ]
  },
  {
   "cell_type": "code",
   "execution_count": null,
   "metadata": {},
   "outputs": [],
   "source": [
    "This programme asks user for radius and tells them the volume of the sphere\n",
    "\n",
    "strain = inpt('What is the strain? ')\n",
    "E = input(\"What is the Young's modulus? \")\n",
    "\n",
    "stress = strain * e\n",
    "print('If the strain is ' + strain + ' and the Young\\'s modulus is ' + E + ' then the stress is ' + stress + '.\\n')"
   ]
  },
  {
   "cell_type": "markdown",
   "metadata": {},
   "source": [
    "## Conditional statements: using if/elseif/else statements to make decisions\n",
    "\n",
    "Conditional statements allow you to execute certain sections of code when you run the program. If a condition is true then a section of code will be executed. If the condition is false then that section of code is skipped.\n",
    "<img src=\"./img/if.png\" alt=\"error messages\" align='center' style=\"width: 400px;\"/>\n",
    "The simplest conditional statement is the if statement. Consider the following code"
   ]
  },
  {
   "cell_type": "code",
   "execution_count": null,
   "metadata": {},
   "outputs": [],
   "source": [
    "# A few lines of code demonstrating the if statement\n",
    "number = int(input('What is your integer? ')) # User asked for an integer number\n",
    "\n",
    "if number == 5: # Compare the number to 5\n",
    "    print('You guessed the number!\\n') # if they are equal then this line is executed; if not then the code is skipped\n",
    "\n",
    "print('The guessing game has ended!')"
   ]
  },
  {
   "cell_type": "markdown",
   "metadata": {},
   "source": [
    "Note the structure or syntax of the `if` statement. The `if` is followed by a condition (`number == 5`) and then a colon `:`. If the condition is true then the indented lines underneath the `if` statement are exeecuted. In this case there is only one line of code indented after the `if` statement. The indentation is very important - if it is not there the code will not run properly.\n",
    "\n",
    "== is called a relational operator or comparison operator. It checks whether the two objects either side of the == are equal. More information on comparison operators can be found [here](https://www.tutorialspoint.com/python/python_basic_operators.htm) or on page 20 of your notes.\n",
    "\n",
    "We can extend the above programme to tell the user if they did not guess the correct number. This is done using an if/else block. In this case if the condition is false then another section of code is executed.\n",
    "<img src=\"./img/if_else.png\" alt=\"error messages\" align='center' style=\"width: 300px;\"/>"
   ]
  },
  {
   "cell_type": "code",
   "execution_count": null,
   "metadata": {},
   "outputs": [],
   "source": [
    "# A simple programme demonstrating if/else statements\n",
    "number = int(input('What is the number?'))\n",
    "if number == 5:\n",
    "    print('You guessed the number!')\n",
    "else:\n",
    "    print('Sorry. Wrong number.') # This time if the condition number == 5 is false then this line is executed.\n",
    "\n",
    "print('The guessing game has ended')\n"
   ]
  },
  {
   "cell_type": "markdown",
   "metadata": {},
   "source": [
    "Note the spacing of the code in the above example. The `else` statement is aligned with its respective `if` statement. The code after the `if` and `else` statements are indented 4 spaces. This is a requirement in Python.\n",
    "\n",
    "You can programme for more choices using the if/elif/else block.\n",
    "<img src=\"./img/if_elseif_else.png\" alt=\"error messages\" align='center' style=\"width: 500px;\"/>"
   ]
  },
  {
   "cell_type": "code",
   "execution_count": null,
   "metadata": {},
   "outputs": [],
   "source": [
    "# A simple programme demonstrating if/elif/else statements. Checks whether a number is positive, negative or zero\n",
    "number = float(input('What is the number to two places of decimal? '))\n",
    "if number < 0:\n",
    "    print(f'The number {number:5.2f} is negative.')\n",
    "elif number > 0:\n",
    "    print(f'The number {number:5.2f} is positive.')\n",
    "else:\n",
    "    print('The number is zero.')\n",
    "    \n",
    "print('The guessing game has ended')"
   ]
  },
  {
   "cell_type": "markdown",
   "metadata": {},
   "source": [
    "### Aside - formatting numbers to fixed number of decimal places\n",
    "Note how the number is printed to the shell. It is different to how we did it before. Previously we did something like:"
   ]
  },
  {
   "cell_type": "code",
   "execution_count": null,
   "metadata": {},
   "outputs": [],
   "source": [
    "number = 5.68791\n",
    "print('The number ' + str(number) + ' is positive.')"
   ]
  },
  {
   "cell_type": "markdown",
   "metadata": {},
   "source": [
    "The method above prints out the number exactly as it is stored. The method in the guessing game script allows us to control the format of the number. This method is known as f-strings. F-strings are very powerful and more information on using them can be found [here](https://realpython.com/python-f-strings/#f-strings-a-new-and-improved-way-to-format-strings-in-python). We are only focussing here on how to output decimal numbers to a specified number of decimal places.\n",
    "\n",
    "using the specifier `number:5.2f}`. This is a specifier for fixed point notation. This gives more control over the format of numbers we output. The `f` after the `5.2` denotes fixed point notation. The number before the decimal point specifies the minimum width allowed for printing the number. The number after the decimal point specifies the number of decimal places.\n",
    "\n",
    "#### Quick exercise\n",
    "Consider a component with a measured stress of 12.443 MPa under a strain of 0.0148. Try outputting the line *The maximum stress in the component is 12.44 MPa when the strain is 0.015.* to the shell or the cell below."
   ]
  },
  {
   "cell_type": "code",
   "execution_count": 3,
   "metadata": {},
   "outputs": [
    {
     "name": "stdout",
     "output_type": "stream",
     "text": [
      "The maximum stress in the component is 12.440 MPa when the strain is 0.015.\n"
     ]
    }
   ],
   "source": [
    "print(f'The maximum stress in the component is {12.44:5.3f} MPa when the strain is {0.015:5.3f}.')"
   ]
  },
  {
   "cell_type": "markdown",
   "metadata": {},
   "source": [
    "The following script demonstrates the use of f-strings to output a number in different formats."
   ]
  },
  {
   "cell_type": "code",
   "execution_count": 1,
   "metadata": {},
   "outputs": [
    {
     "name": "stdout",
     "output_type": "stream",
     "text": [
      "    1234.1\n",
      " 1234.057\n",
      " 1234.056789\n",
      "     1234.05679\n",
      "\n"
     ]
    }
   ],
   "source": [
    "# Programme to demonstrate the use of %f\n",
    "random_number = 1234.056789; # Just picking a random number\n",
    "\n",
    "print(f'{random_number:10.1f}\\n{random_number:9.3f}\\n{random_number:12.6f}\\n{random_number:15.5f}\\n')\n"
   ]
  },
  {
   "cell_type": "markdown",
   "metadata": {},
   "source": [
    "Note the effect of the number before the decimal point. This will be useful when we create tables of numbers and we want them to be nicely aligned.\n",
    "## Exercises\n",
    "Create a Python script to do the following:\n",
    "\n",
    "3.\tAsk the user for any number between 0 and 100. If they input a number outside this range, tell them it is outside the range. Otherwise tell them if it is less than 50 or greater than 50. Format the output so that the number is to three places of decimal.\n",
    "\n",
    "\n",
    "## Creating and using functions\n",
    "A function is a block of code that performs an action and can be reused. Functions can accept input and output arguments. This makes them different from the scripts we have written already, which do not accept any arguments.\n",
    "An overview of the structure and use of functions in Python can be found [here](https://www.tutorialspoint.com/python/python_functions.htm).\n",
    "\n",
    "Consider the following basic function, which adds two numbers."
   ]
  },
  {
   "cell_type": "code",
   "execution_count": 4,
   "metadata": {},
   "outputs": [
    {
     "name": "stdout",
     "output_type": "stream",
     "text": [
      "The sum of the numbers 5 and 6 is 11.\n"
     ]
    }
   ],
   "source": [
    "# This is a function that adds the two numbers passed into it\n",
    "def add_numbers(a, b):\n",
    "    result = a + b\n",
    "    return result\n",
    "\n",
    "# This script calls the function add_numbers, which is defined below.\n",
    "total_of_numbers = add_numbers(5,6) # The values 5 and 6 are passed \n",
    "                                    # into the function and the function returns the sum of them.\n",
    "print(f'The sum of the numbers 5 and 6 is {total_of_numbers}.')"
   ]
  },
  {
   "cell_type": "markdown",
   "metadata": {},
   "source": [
    "Note the structure of a function above. It must start with `def` followed by the name of the function (in this case `add_numbers`), followed by a list of input arguments in brackets (in this case called `a` and `b`). The code within the function must be indented. The last line of the function returns any output arguments if there are any (in this case the variable `result` is returned). It must adhere to this format.\n",
    "\n",
    "Functions can be defined in the script file before they are called. They can also be located in another file but in this case they must be imported. For now, we will define the functions in the same file as the script in which they are called.\n",
    "\n",
    "## Exercises\n",
    "Create Python scripts and functions to do the following:\n",
    "\n",
    "4.\tCreate a function that calculates the stress of a material. The input arguments for the function are the strain and Young's modulus; the output argument is the stress. Call the function from a script where the user is asked for the strain and Young's modulus. The script also prints the stress to the output window.\n",
    "\n",
    "5.\tCreate a function that calculates the Reynold's number for flow in a pipe. The input arguments are the velocity, diameter, and kinematic viscosity; the output argument is the Reynold's number. Call the function from a script where the user is asked for the velocity, diameter, and viscosity.\n",
    "\n",
    "6.\tModify the script in the previous problem to tell the user whether the flow is laminar (Re < 2000), transitional (2000 < Re < 2500), or turbulent (Re > 2500).\n",
    "\n"
   ]
  },
  {
   "cell_type": "markdown",
   "metadata": {},
   "source": [
    "\n"
   ]
  }
 ],
 "metadata": {
  "kernelspec": {
   "display_name": "Python 3 (ipykernel)",
   "language": "python",
   "name": "python3"
  },
  "language_info": {
   "codemirror_mode": {
    "name": "ipython",
    "version": 3
   },
   "file_extension": ".py",
   "mimetype": "text/x-python",
   "name": "python",
   "nbconvert_exporter": "python",
   "pygments_lexer": "ipython3",
   "version": "3.12.2"
  }
 },
 "nbformat": 4,
 "nbformat_minor": 4
}
