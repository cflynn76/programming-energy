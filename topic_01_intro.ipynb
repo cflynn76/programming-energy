{
 "cells": [
  {
   "cell_type": "markdown",
   "metadata": {},
   "source": [
    "# Introducing Python\n",
    "\n",
    "<img src=\"./img/Python.svg.png\" alt=\"Python symbol\" align='right' style=\"width: 200px;\"/>This lesson introduces Python, the Thonny integrated development environment, and some basic operations in Python. By the end of the lesson, you should be able to:\n\n",
    "1.\tlist some applications of Python\n\n",
    "2.\tnavigate the Thonny IDE\n\n",
    "3.\tuse the shell as a calculator\n\n",
    "4.\tcreate variables\n\n",
    "5.\tcreate and run some simple Python programs\n\n",
    "\n",
    "\n",
    "\n",
    "## What is Python?\n",
    "Python is a high-level computing language that allows you to perform computations, visualise data, and write programs. Full documentation on Python is available [here](https://docs.python.org/3/).\n",
    "\n",
    "## Thonny IDE\n",
    "There are many different free IDEs available to develop Python programs. Examples include Idle, Spyder, and PyCharm. We are going to use [Thonny](https://thonny.org), which has a straightforward interface suitable for those beginning programming. This video gives an overview of Thonny."
   ]
  },
  {
   "cell_type": "code",
   "execution_count": null,
   "metadata": {},
   "outputs": [],
   "source": [
    "from IPython.display import YouTubeVideo\n",
    "YouTubeVideo('nwIgxrXP-X4', width = 800, height = 500)"
   ]
  },
  {
   "cell_type": "markdown",
   "metadata": {},
   "source": [
    "When you open Thonny you will see something similar to the following:\n",
    "\n",
    "<img src=\"./img/thonny_screenshot.PNG\" alt=\"Thonny opening window\" align='center' style=\"width: 800px;\"/>\n",
    "\n",
    "The shell is where you can type Python commands. This is also how you can use Python as a calculator. The window above the shell is where you can type the code for programs. There are other windows that can be opened to view different parameters. We will look at these later as we need them. For now we will focus on the shell window.\n",
    "\n",
    "## Shell window\n",
    "Using the shell window below, Thonny can simply be used as a calculator. Try it for yourself. Do the following calculations in the shell:\n",
    "$$\n",
    "1 + 2\n",
    "$$\n",
    "$$\n",
    "10 \\times 51  \n",
    "$$\n",
    "$$\n",
    "23 \\div 5  \n",
    "$$\n",
    "$$\n",
    "\\sqrt{2}  \n",
    "$$\n",
    "\n",
    "You can also try the calculations in the code cell below. After typing something hit *ctrl-enter* or click *Run* above."
   ]
  },
  {
   "cell_type": "code",
   "execution_count": null,
   "metadata": {},
   "outputs": [],
   "source": [
    "1+2"
   ]
  },
  {
   "cell_type": "markdown",
   "metadata": {},
   "source": [
    "Any Python command can be entered in the shell. We will introduce several new commands during the next few weeks. The command for square root in Python is `**0.5` or `**(1/2)`. Try it below or in the Thonny shell."
   ]
  },
  {
   "cell_type": "code",
   "execution_count": null,
   "metadata": {},
   "outputs": [],
   "source": [
    "2**(1/2)"
   ]
  },
  {
   "cell_type": "markdown",
   "metadata": {},
   "source": [
    "There is also a Python command called `sqrt` which does the same thing. To use this command you must import a library called `math`. Run the cell below to see how this is used."
   ]
  },
  {
   "cell_type": "code",
   "execution_count": null,
   "metadata": {},
   "outputs": [],
   "source": [
    "import math\n",
    "math.sqrt(2)"
   ]
  },
  {
   "cell_type": "markdown",
   "metadata": {},
   "source": [
    "Most maths functions are accessed from the math library. For example, to calculate sin(2), type `math.sin(2)`.\n",
    "\n",
    "If you want to find some help on this command, you can type 'help(math.sin)'."
   ]
  },
  {
   "cell_type": "code",
   "execution_count": null,
   "metadata": {},
   "outputs": [],
   "source": [
    "help(math.sin)"
   ]
  },
  {
   "cell_type": "markdown",
   "metadata": {},
   "source": [
    "Typing just `help()` brings up some getting started help on Python. Try it in the cell below."
   ]
  },
  {
   "cell_type": "code",
   "execution_count": null,
   "metadata": {},
   "outputs": [],
   "source": []
  },
  {
   "cell_type": "markdown",
   "metadata": {},
   "source": [
    "## Variables\n",
    "To store values in Python or any other computer program, variables are used. Type the following into the shell on Thonny:"
   ]
  },
  {
   "cell_type": "code",
   "execution_count": null,
   "metadata": {},
   "outputs": [],
   "source": [
    "a=1"
   ]
  },
  {
   "cell_type": "markdown",
   "metadata": {},
   "source": [
    "The value 1 is stored in a variable called *a*. In Thonny, click on *View* and then *Variables*. You will see the variable name and its value displayed.\n",
    "\n",
    "<img src=\"./img/thonny_variables.PNG\" alt=\"Thonny variables window\" align='center' style=\"width: 800px;\"/>\n",
    "\n",
    "Try storing a value 2 in a variable called *b*."
   ]
  },
  {
   "cell_type": "code",
   "execution_count": null,
   "metadata": {},
   "outputs": [],
   "source": [
    "b=2"
   ]
  },
  {
   "cell_type": "markdown",
   "metadata": {},
   "source": [
    "You can do operations on these variables as if they were numbers. Type the following:"
   ]
  },
  {
   "cell_type": "code",
   "execution_count": null,
   "metadata": {},
   "outputs": [],
   "source": [
    "a+b"
   ]
  },
  {
   "cell_type": "markdown",
   "metadata": {},
   "source": [
    "You can also assign an operation on variables to another variable. Type the following."
   ]
  },
  {
   "cell_type": "code",
   "execution_count": null,
   "metadata": {},
   "outputs": [],
   "source": [
    "c=a*b"
   ]
  },
  {
   "cell_type": "markdown",
   "metadata": {},
   "source": [
    "Check the variables window in Thonny to see the variables *b* and *c* you created with their values. You can also see the contents of a variable by typing the variable name in the shell."
   ]
  },
  {
   "cell_type": "code",
   "execution_count": null,
   "metadata": {},
   "outputs": [],
   "source": [
    "c"
   ]
  },
  {
   "cell_type": "markdown",
   "metadata": {},
   "source": [
    "There are some rules and conventions on naming variables. The rules are:\n",
    "- They must start with a letter or underscore, e.g. `velocity`, `_speed`\n",
    "- The remainder of the variable name can contain letters, numbers, and underscores, e.g. `cylinder_height`, `direction1`\n",
    "- They are case sensitive, i.e. `velocity` and `VELOCITY` are two different variables\n",
    "\n",
    "The conventions are:\n",
    "- Use underscrores to make variables readable, e.g. `cylinder_height` is more readable than `cylinderheight`\n",
    "- Avoid using lowercase 'l', uppercase 'O', and uppercase 'I' as they either look like the number 1 or 0.\n",
    "\n",
    "### Variable types\n",
    "There are different types of variables in Python. We have already used numeric types when we typed a=1, and b=2 in the command window. These are of type integer. Enter the following in the shell or run the cell to find out the type of a variable."
   ]
  },
  {
   "cell_type": "code",
   "execution_count": null,
   "metadata": {},
   "outputs": [],
   "source": [
    "type(a)"
   ]
  },
  {
   "cell_type": "markdown",
   "metadata": {},
   "source": [
    "Another variable type is a float. Create a variable which has the value 4.56 assigned to it and determine its type using the `type()` command."
   ]
  },
  {
   "cell_type": "code",
   "execution_count": null,
   "metadata": {},
   "outputs": [],
   "source": [
    "height=4.56\n",
    "type(height)"
   ]
  },
  {
   "cell_type": "markdown",
   "metadata": {},
   "source": [
    "Another data type in Python is a string, which is a text variable. In the shell, type"
   ]
  },
  {
   "cell_type": "code",
   "execution_count": null,
   "metadata": {},
   "outputs": [],
   "source": [
    "day = 'Tuesday'\n",
    "type(day)"
   ]
  },
  {
   "cell_type": "markdown",
   "metadata": {},
   "source": [
    "A boolean variable type is a variable that can hold one of two values: `True` or `False`."
   ]
  },
  {
   "cell_type": "code",
   "execution_count": null,
   "metadata": {},
   "outputs": [],
   "source": [
    "is_it_raining = True\n",
    "type(is_it_raining)"
   ]
  },
  {
   "cell_type": "markdown",
   "metadata": {},
   "source": [
    "There are lots of other variable types in Python. We will mostly use integers, floats, strings, and bools."
   ]
  },
  {
   "cell_type": "markdown",
   "metadata": {},
   "source": [
    "## Creating and running scripts\n",
    "So far we have been typing commands in the shell in Thonny. This procedure can become laborious if we are repeatedly typing in the same series of commands to perform a task. Scripts are useful for automating a series of Python commands. Let's create and run our first Python program. Copy the code below into the window titled *untitled*."
   ]
  },
  {
   "cell_type": "code",
   "execution_count": null,
   "metadata": {},
   "outputs": [],
   "source": [
    "# This is my first program\n",
    "print('Hello world')"
   ]
  },
  {
   "attachments": {
    "run_first_program.PNG": {
     "image/png": "[encoded data removed]"
    }
   },
   "cell_type": "markdown",
   "metadata": {},
   "source": [
    "Save the file as *first_program* and run it by clicking on green play button in the toolbar. Your Thonny window should look like the following.\n",
    "![run_first_program.PNG](attachment:run_first_program.PNG)\n",
    "\n",
    "The above is a simple script containing two lines of code. The first line is only for information - it is what is known as a comment line. Anything after the # is treated as a comment and ignored by Python. Comments should only be used where needed. If the code is obvious and self-explanatory then there is no need to comment.\n",
    "\n",
    "`print` prints out the text between the quotation marks. Try changing the text between the quotation marks and rerunning the section.\n",
    "\n",
    "The previous script just output information to the screen. Frequently, we want the user to input information that the program then processes. Consider the following script, which asks the user for their name and says hello to them. Run the code below by clicking on the green button."
   ]
  },
  {
   "cell_type": "code",
   "execution_count": null,
   "metadata": {},
   "outputs": [],
   "source": [
    "# This programme asks for your name and then it will say hello to you\n",
    "\n",
    "first_name = input('What is your first name? ')\n",
    "\n",
    "print('Hello there ' + first_name + ', how are you?')\n"
   ]
  },
  {
   "cell_type": "markdown",
   "metadata": {},
   "source": [
    "The command `input` requests user input. The user entry is stored as a character string in the variable `first_name`.\n",
    "\n",
    "We use `print` to output a string to the shell. Look how several strings are output using `+`.\n",
    "\n",
    "We can also get the user to input numbers and then process them. The following script asks the user for two numbers and then adds them. Run the cell to see the output."
   ]
  },
  {
   "cell_type": "code",
   "execution_count": null,
   "metadata": {},
   "outputs": [],
   "source": [
    "# Program asks for two numbers and adds them.\n",
    "\n",
    "a = float(input('What is the first number? '))\n",
    "b = float(input('What is the second number? '))\n",
    "\n",
    "c = a + b\n",
    "\n",
    "print('The sum of ' + str(a) + ' and ' + str(b) + ' is ' + str(c) + '.')\n"
   ]
  },
  {
   "cell_type": "markdown",
   "metadata": {},
   "source": [
    "The `input` command reads input as strings. If you want to read a number in you need to convert it to an integer or float. In the above program, the strings were converted to floats using the `float()` command. If you want to read them in as integers, you could use the `int()` command.\n",
    "\n",
    "When outputting the numbers to the shell using the `print` command, you need to convert the float variables to strings using the `str()` command.\n",
    "\n",
    "## Exercises\n",
    "Write Python scripts to do the following. Ensure your scripts are easy to read and use comments where appropriate.\n\n",
    "1.\tAsk the user for the diameter of a sphere and calculate the volume of it. Tell the user.\n\n",
    "2.\tAsk the user for the strain and the Young's modulus. Calculate the stress and tell the user.\n\n",
    "3.\tAsk the user for the kinematic viscosity of a fluid, the diameter of a pipe, and the velocity of the fluid. Calculate the Reynold's number and tell the user.\n"
   ]
  }
 ],
 "metadata": {
  "kernelspec": {
   "display_name": "Python 3",
   "language": "python",
   "name": "python3"
  },
  "language_info": {
   "codemirror_mode": {
    "name": "ipython",
    "version": 3
   },
   "file_extension": ".py",
   "mimetype": "text/x-python",
   "name": "python",
   "nbconvert_exporter": "python",
   "pygments_lexer": "ipython3",
   "version": "3.7.1"
  }
 },
 "nbformat": 4,
 "nbformat_minor": 4
}
