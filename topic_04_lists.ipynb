{
 "cells": [
  {
   "cell_type": "markdown",
   "id": "887076e0",
   "metadata": {},
   "source": [
    "# Lists in Python"
   ]
  },
  {
   "cell_type": "markdown",
   "id": "b455c698",
   "metadata": {},
   "source": [
    "\n",
    "In computational problem solving, it is often necessary to work with **collections of data** rather than single values.  \n",
    "Python's **list** data structure provides a flexible, ordered, and mutable (changeable) container for storing heterogeneous data types.  \n",
    "This notebook introduces lists in Python. After the lesson you will be able to \n",
    "\n",
    "1. create lists\n",
    "2. access elements in a list\n",
    "3. use methods to modify lists\n",
    "4. operate on lists\n",
    "5. loop through lists\n"
   ]
  },
  {
   "cell_type": "markdown",
   "id": "5f9f164f",
   "metadata": {},
   "source": [
    "## Creating Lists"
   ]
  },
  {
   "cell_type": "markdown",
   "id": "9ba7ba4f",
   "metadata": {},
   "source": [
    "\n",
    "Lists in Python are created using square brackets `[]` and can hold elements of **homogeneous** or **heterogeneous** data types.  \n",
    "Lists preserve **order**, allow **duplicates**, and can be nested to represent multi-dimensional data structures.\n"
   ]
  },
  {
   "cell_type": "code",
   "execution_count": 21,
   "id": "0853256f",
   "metadata": {},
   "outputs": [
    {
     "name": "stdout",
     "output_type": "stream",
     "text": [
      "[1, 2, 3, 4, 5]\n",
      "['apple', 'banana', 'cherry']\n",
      "[1, 'hello', 3.5, True]\n"
     ]
    }
   ],
   "source": [
    "# Creating different types of lists\n",
    "numbers = [1, 2, 3, 4, 5]              # List of integers\n",
    "fruits = [\"apple\", \"banana\", \"cherry\"] # List of strings\n",
    "mixed = [1, \"hello\", 3.5, True]        # Mixed data types\n",
    "\n",
    "print(numbers)\n",
    "print(fruits)\n",
    "print(mixed)"
   ]
  },
  {
   "cell_type": "markdown",
   "id": "d75b51df",
   "metadata": {},
   "source": [
    "## Accessing Elements"
   ]
  },
  {
   "cell_type": "markdown",
   "id": "ed125b99",
   "metadata": {},
   "source": [
    "\n",
    "List elements are accessed using **zero-based indexing**: the first element has index 0, the second index 1, and so on.  \n",
    "Python also supports **negative indexing**, where `-1` refers to the last element, `-2` the second last, etc.\n"
   ]
  },
  {
   "cell_type": "code",
   "execution_count": 22,
   "id": "528d5d59",
   "metadata": {},
   "outputs": [
    {
     "name": "stdout",
     "output_type": "stream",
     "text": [
      "apple\n",
      "banana\n",
      "strawberry\n",
      "['banana', 'cherry']\n",
      "['apple', 'cherry', 'strawberry']\n"
     ]
    }
   ],
   "source": [
    "fruits = [\"apple\", \"banana\", \"cherry\", \"orange\", \"strawberry\"]\n",
    "print(fruits[0])   # first element\n",
    "print(fruits[1])   # second element\n",
    "print(fruits[-1])  # last element\n",
    "print(fruits[1:3])  # 2nd and third elements\n",
    "print(fruits[0::2])  # every second element"
   ]
  },
  {
   "cell_type": "markdown",
   "id": "5ef803eb",
   "metadata": {},
   "source": [
    "## Modifying Lists"
   ]
  },
  {
   "cell_type": "markdown",
   "id": "fe79c732",
   "metadata": {},
   "source": [
    "\n",
    "Lists are **mutable** or changeable, enabling in-place modifications without creating new lists.  \n",
    "Elements can be reassigned, appended, or removed using built-in methods.\n"
   ]
  },
  {
   "cell_type": "code",
   "execution_count": 23,
   "id": "7af703ab",
   "metadata": {},
   "outputs": [
    {
     "name": "stdout",
     "output_type": "stream",
     "text": [
      "['blueberry', 'cherry', 'orange']\n"
     ]
    }
   ],
   "source": [
    "fruits = [\"apple\", \"banana\", \"cherry\"]\n",
    "fruits[1] = \"blueberry\"   # Modify element at index 1\n",
    "fruits.append(\"orange\")   # Add new element at the end\n",
    "fruits.remove(\"apple\")    # Remove an element by value\n",
    "print(fruits)"
   ]
  },
  {
   "cell_type": "markdown",
   "id": "51168018",
   "metadata": {},
   "source": [
    "## Other Useful List Methods"
   ]
  },
  {
   "cell_type": "markdown",
   "id": "fbbc65b3",
   "metadata": {},
   "source": [
    "\n",
    "Python provides various methods for list manipulation. Some common ones include:  \n",
    "- `sort()` to arrange elements in ascending order  \n",
    "- `reverse()` to invert the list order  \n",
    "- `len()` to compute the list length\n",
    "-  `clear()` clears the elements from the list\n",
    "-  `pop()` removes an element from a list  \n"
   ]
  },
  {
   "cell_type": "code",
   "execution_count": 24,
   "id": "e73a9622",
   "metadata": {},
   "outputs": [
    {
     "name": "stdout",
     "output_type": "stream",
     "text": [
      "[1, 2, 5, 9]\n",
      "[9, 5, 2, 1]\n",
      "4\n",
      "[9, 2, 1]\n",
      "[]\n"
     ]
    }
   ],
   "source": [
    "numbers = [5, 2, 9, 1]\n",
    "\n",
    "numbers.sort()        # Sort list in ascending order\n",
    "print(numbers)\n",
    "\n",
    "numbers.reverse()     # Reverse the sorted list\n",
    "print(numbers)\n",
    "\n",
    "print(len(numbers))   # Count number of elements\n",
    "\n",
    "numbers.pop(1)\n",
    "print(numbers) # Removes the second element\n",
    "\n",
    "numbers.clear()\n",
    "print(numbers) # Clears the list"
   ]
  },
  {
   "cell_type": "markdown",
   "id": "25a81906",
   "metadata": {},
   "source": [
    "## Looping Through Lists"
   ]
  },
  {
   "cell_type": "markdown",
   "id": "308b3136",
   "metadata": {},
   "source": [
    "\n",
    "Iterating over lists using `for` loops allows processing each element sequentially.  \n",
    "This is a fundamental technique for applying algorithms to data collections.\n"
   ]
  },
  {
   "cell_type": "code",
   "execution_count": 25,
   "id": "c97d57a0",
   "metadata": {},
   "outputs": [
    {
     "name": "stdout",
     "output_type": "stream",
     "text": [
      "apple\n",
      "banana\n",
      "cherry\n"
     ]
    }
   ],
   "source": [
    "fruits = [\"apple\", \"banana\", \"cherry\"]\n",
    "for fruit in fruits:\n",
    "    print(fruit)"
   ]
  },
  {
   "cell_type": "markdown",
   "id": "604f6187",
   "metadata": {},
   "source": [
    "## Basic List Operations"
   ]
  },
  {
   "cell_type": "markdown",
   "id": "758d7953",
   "metadata": {},
   "source": [
    "\n",
    "Python supports arithmetic-like operations on lists:  \n",
    "- **Concatenation** using `+` to join two lists  \n",
    "- **Repetition** using `*` to replicate list elements  \n"
   ]
  },
  {
   "cell_type": "code",
   "execution_count": 26,
   "id": "ef5dc42b",
   "metadata": {},
   "outputs": [
    {
     "name": "stdout",
     "output_type": "stream",
     "text": [
      "[1, 2, 3, 4]\n",
      "[1, 2, 1, 2, 1, 2]\n"
     ]
    }
   ],
   "source": [
    "list1 = [1, 2]\n",
    "list2 = [3, 4]\n",
    "\n",
    "combined = list1 + list2   # Concatenate lists\n",
    "print(combined)\n",
    "\n",
    "repeated = list1 * 3       # Repeat elements\n",
    "print(repeated)"
   ]
  },
  {
   "cell_type": "markdown",
   "id": "f7b078aa",
   "metadata": {},
   "source": [
    "## Practice Exercises"
   ]
  },
  {
   "cell_type": "markdown",
   "id": "329b5e8d",
   "metadata": {},
   "source": [
    "\n",
    "Complete the following exercises to consolidate your understanding:\n",
    "\n",
    "1. Create a list of 5 engineering disciplines and print the third one.  \n",
    "2. Add a new discipline to the end of the list and then remove the first one.  \n",
    "3. Sort the list alphabetically and print it.  \n",
    "4. Use a loop to print each discipline in uppercase letters. Note: The upper() method converts a string to upper case letter. \n",
    "5. Concatenate two numeric lists and find the length of the combined list.  \n"
   ]
  },
  {
   "cell_type": "markdown",
   "id": "9ad68d70",
   "metadata": {},
   "source": [
    "## Summary"
   ]
  },
  {
   "cell_type": "markdown",
   "id": "f374ec58",
   "metadata": {},
   "source": [
    "\n",
    "This notebook introduced Python lists as a fundamental data structure for storing and processing collections of information.  \n",
    "We explored creation, indexing, modification, methods, iteration, and basic operations, laying a foundation for advanced data manipulation tasks in engineering computation.\n"
   ]
  }
 ],
 "metadata": {
  "kernelspec": {
   "display_name": "Python 3 (ipykernel)",
   "language": "python",
   "name": "python3"
  },
  "language_info": {
   "codemirror_mode": {
    "name": "ipython",
    "version": 3
   },
   "file_extension": ".py",
   "mimetype": "text/x-python",
   "name": "python",
   "nbconvert_exporter": "python",
   "pygments_lexer": "ipython3",
   "version": "3.12.2"
  }
 },
 "nbformat": 4,
 "nbformat_minor": 5
}
