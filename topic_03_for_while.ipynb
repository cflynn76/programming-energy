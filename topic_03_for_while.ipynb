{
 "cells": [
  {
   "cell_type": "markdown",
   "metadata": {},
   "source": [
    "# Repetiton - for and while loops\n",
    "In this lesson, we will focus on doing repetitive tasks. By the end of the lesson, you will be able to:\n",
    "\n",
    "1.\tuse for loops to do repeat blocks of code.\n",
    "\n",
    "2.\tuse while loops to repeat blocks of code.\n",
    "\n",
    "## ...but first debug this ...\n",
    "Copy the code into a python file (\\*.py) and correct it. Test the function by calling it from the shell or another script file."
   ]
  },
  {
   "cell_type": "code",
   "execution_count": null,
   "metadata": {},
   "outputs": [],
   "source": [
    "def reynolds(dynamic_viscosity, diameter, density, velocity):\n",
    "\n",
    "    reynolds_no = density * diameter * velocity / dynamic_viscosity\n",
    "\n",
    "    if reynolds_no <= 1800:\n",
    "    regime = 'Laminar'\n",
    "    elif reynolds_no > 1800 && reynolds_no <= 2100:\n",
    "        regime = 'Transitional\n",
    "    else reynolds_no > 2100\n",
    "        regme = 'Turbulent'\n",
    "    \n",
    "    return reynolds_no, regime\n",
    "\n",
    "print(reynolds(1e-4, 0.5, 1000, 1.5))"
   ]
  },
  {
   "cell_type": "markdown",
   "metadata": {},
   "source": [
    "## For loops\n",
    "We use for loops when we want to repeat blocks of code. Using a for statement loops over a block of code a specified number of times. Each time the block of code is executed an index variable gets incremented.\n",
    "\n",
    "Consider the following code:"
   ]
  },
  {
   "cell_type": "code",
   "execution_count": null,
   "metadata": {},
   "outputs": [],
   "source": [
    "# Programme to demonstrate the for statement\n",
    "for i in range(1,11):\n",
    "    print('Hello')\n",
    "print('We are now out of the for loop')"
   ]
  },
  {
   "cell_type": "markdown",
   "metadata": {},
   "source": [
    "When executed, the programme prints \"Hello\" to the shell window 10 times.\n",
    "\n",
    "After the `for` statement we have `i = in range(1,11)`. In this case, i is a variable that changes value each time the block of code indented after the `for` statement is executed. The values of i are specified by what comes after `in`. In this case, we have `range(1,11)`. `range` is a function that creates a sequence of numbers. In this case, it creates a sequence from 1 to 10. More information on using the range function can be found [here](https://www.w3schools.com/python/ref_func_range.asp). Each time a loop is executed, the value of i is incremented by 1. When i equals 10 Python exits the for loop and continues on with any code after the for loop.\n",
    "\n",
    "Also note the indenting of the code after the for loop. This is similar to when using if/elif/else statements. This indentation is necessary for the code to run correctly.\n",
    "\n",
    "The following is some code that counts to 20 and outputs it to the command window."
   ]
  },
  {
   "cell_type": "code",
   "execution_count": null,
   "metadata": {},
   "outputs": [],
   "source": [
    "# Another programme demonstrating for loops\n",
    "for index in range(1, 21):\n",
    "    print(f'i={index}')"
   ]
  },
  {
   "cell_type": "markdown",
   "metadata": {},
   "source": [
    "When running the programme above, you can clearly see the value of the counter variable index increasing with each loop. Note that you don't have to start at 1."
   ]
  },
  {
   "cell_type": "code",
   "execution_count": null,
   "metadata": {},
   "outputs": [],
   "source": [
    "# Another programme demonstrating for loops: not starting at 1\n",
    "for i in range(-5,21):\n",
    "    print(f'i={i}')"
   ]
  },
  {
   "cell_type": "markdown",
   "metadata": {},
   "source": [
    "Nor do you have to increment in steps of 1."
   ]
  },
  {
   "cell_type": "code",
   "execution_count": null,
   "metadata": {},
   "outputs": [],
   "source": [
    "# Another programme demonstrating for loops: going in steps of 5\n",
    "for index in range(-5, 21, 5): # This for loop increments the variable index by 5 for each loop\n",
    "    print(f'i={index}')"
   ]
  },
  {
   "cell_type": "markdown",
   "metadata": {},
   "source": [
    "The following program asks the user for a positive integer and sums up the numbers from 0 to the chosen number."
   ]
  },
  {
   "cell_type": "code",
   "execution_count": null,
   "metadata": {},
   "outputs": [],
   "source": [
    "# Programme adds up the numbers from 0 to a user specified positive integer\n",
    "number = int(input('Please enter a positive integer: '))\n",
    "\n",
    "sum = 0\n",
    "for i in range(0,number):\n",
    "    sum = sum + i\n",
    "print(f'The sum of the positive integers up to {number} is {sum}.')\n"
   ]
  },
  {
   "cell_type": "markdown",
   "metadata": {},
   "source": [
    "## Exercises\n",
    "Create a Python script to:\n",
    "\n",
    "1.\tCalculate the factorial of a user specified number.\n",
    "2.\tCalculate the distance an object travels downwards every second when dropped.\n",
    "\n",
    "## While loops\n",
    "The other method of repeating blocks of code is using a while statement. While loops repeatedly execute a block of code as long as a condition is true."
   ]
  },
  {
   "cell_type": "code",
   "execution_count": null,
   "metadata": {},
   "outputs": [],
   "source": [
    "# Programme to demonstrate while loop. Counts to 9 and outputs it.\n",
    "i = 1\n",
    "while i < 10:\n",
    "    print(f'i={i}')\n",
    "    i = i + 1"
   ]
  },
  {
   "cell_type": "markdown",
   "metadata": {},
   "source": [
    "Note that after a `while` statement there must be a condition to test. In this case, `i<10` is tested. If the condition is true, then the code indented after the `while` statement is executed. If it is false, then the while loop is exited and the programme continues after the indented code. `i` must be incremented inside the while loop or else the programme will run forever as the condition `i<10` will always be true. `i` must also be initialised before the while loop. If it is not, then Python will generate an error saying `i` is an unknown variable or function.\n",
    "\n",
    "Note that the code after the while statement must be indented for the code to run properly.\n",
    "\n",
    "## Using break and continue within for and while loops\n",
    "Sometimes we want to exit out of a for or while loop depending on a condition or skip the remainder of code within a for or while loop. Consider the following:"
   ]
  },
  {
   "cell_type": "code",
   "execution_count": null,
   "metadata": {},
   "outputs": [],
   "source": [
    "# Programme demonstrating using continue in a for loop\n",
    "for i in range(10,0,-1):\n",
    "    if i == 3:\n",
    "        print('Skipping 3')\n",
    "        continue\n",
    "    print(f'i={i}')"
   ]
  },
  {
   "cell_type": "markdown",
   "metadata": {},
   "source": [
    "When the above code is run, when i equals 3, it does not display \"i=3\" to the command window but indicates that it is \"Skipping 3\".\n",
    "\n",
    "The following code uses the `break` command. In this case it exits the while loop when `number` equals 12."
   ]
  },
  {
   "cell_type": "code",
   "execution_count": null,
   "metadata": {},
   "outputs": [],
   "source": [
    "# Programme demonstrating using break in a while loop\n",
    "number = 5\n",
    "while number < 15:\n",
    "    if number == 12:\n",
    "        print('Exiting at 12')\n",
    "        break\n",
    "    print(f'number={number}')\n",
    "    number = number + 1"
   ]
  },
  {
   "cell_type": "markdown",
   "metadata": {},
   "source": [
    "## Exercises\n",
    "Create Python scripts to do the following:\n",
    "\n",
    "3.\tCreate a guessing game using a for loop. Give the user so many chances to guess a number between 1 and 10. Tell the user whether their guess is too low or too high. Use the script you created when doing if statements as a template.\n",
    "\n",
    "4.\tCreate a guessing game similar to the above but using a while loop.\n",
    "\n",
    "5.  Write a script to calculate:\n",
    "$$f(n)=\\frac{1}{e^n-1} for -5\\le n\\le5\\text{, where }n\\text{ is an integer.}$$\n",
    "Output the results in the form of a table where _n_ is the first column and _f_(_n_) is the second column."
   ]
  },
  {
   "cell_type": "code",
   "execution_count": null,
   "metadata": {},
   "outputs": [],
   "source": []
  }
 ],
 "metadata": {
  "kernelspec": {
   "display_name": "Python 3 (ipykernel)",
   "language": "python",
   "name": "python3"
  },
  "language_info": {
   "codemirror_mode": {
    "name": "ipython",
    "version": 3
   },
   "file_extension": ".py",
   "mimetype": "text/x-python",
   "name": "python",
   "nbconvert_exporter": "python",
   "pygments_lexer": "ipython3",
   "version": "3.12.2"
  }
 },
 "nbformat": 4,
 "nbformat_minor": 4
}
